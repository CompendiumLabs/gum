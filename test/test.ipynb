{
 "cells": [
  {
   "cell_type": "code",
   "execution_count": 50,
   "id": "997d2bc4-b320-4b54-88ad-c97beefaf149",
   "metadata": {},
   "outputs": [
    {
     "data": {
      "application/javascript": [
       "const script = document.createElement('script');\n",
       "script.type = 'text/javascript';\n",
       "script.src = 'http://doughanley.com/gum.js/dist/js/gum.js';\n",
       "document.head.appendChild(script);\n"
      ],
      "text/plain": [
       "<IPython.core.display.Javascript object>"
      ]
     },
     "metadata": {},
     "output_type": "display_data"
    }
   ],
   "source": [
    "%%javascript\n",
    "const script = document.createElement('script');\n",
    "script.type = 'text/javascript';\n",
    "script.src = 'http://doughanley.com/gum.js/dist/js/gum.js';\n",
    "document.head.appendChild(script);"
   ]
  },
  {
   "cell_type": "code",
   "execution_count": 51,
   "id": "d67a77f7-d481-405b-babf-26412d6b8d5c",
   "metadata": {},
   "outputs": [
    {
     "data": {
      "application/javascript": [
       "const parser = new DOMParser();\n",
       "let source = `\n",
       "<svg viewBox=\"0 0 500 104.71204327903928\" xmlns=\"http://www.w3.org/2000/svg\" stroke=\"black\" fill=\"none\">\n",
       "<text x=\"0\" y=\"91.1\" font-size=\"104.71px\" fill=\"black\">hello world</text>\n",
       "</svg>\n",
       "`.trim();\n",
       "let parsed = parser.parseFromString(source, 'text/html');\n",
       "let [svg, ..._] = parsed.children;\n",
       "svg.style.width = '50%';\n",
       "element.append(svg);\n"
      ],
      "text/plain": [
       "<IPython.core.display.Javascript object>"
      ]
     },
     "metadata": {},
     "output_type": "display_data"
    }
   ],
   "source": [
    "%%javascript\n",
    "const parser = new DOMParser();\n",
    "let source = `\n",
    "<svg viewBox=\"0 0 500 104.71204327903928\" xmlns=\"http://www.w3.org/2000/svg\" stroke=\"black\" fill=\"none\">\n",
    "<text x=\"0\" y=\"91.1\" font-size=\"104.71px\" fill=\"black\">hello world</text>\n",
    "</svg>\n",
    "`.trim();\n",
    "let parsed = parser.parseFromString(source, 'text/html');\n",
    "let [svg, ..._] = parsed.children;\n",
    "svg.style.width = '50%';\n",
    "element.append(svg);"
   ]
  },
  {
   "cell_type": "code",
   "execution_count": 54,
   "id": "7e2370be-df5d-40fa-9e42-911d0b553991",
   "metadata": {},
   "outputs": [
    {
     "data": {
      "application/javascript": [
       "import { parseGum } from 'http://doughanley.com/gum.js/dist/js/gum.js'\n"
      ],
      "text/plain": [
       "<IPython.core.display.Javascript object>"
      ]
     },
     "metadata": {},
     "output_type": "display_data"
    }
   ],
   "source": [
    "%%javascript\n",
    "import { parseGum } from 'http://doughanley.com/gum.js/dist/js/gum.js'"
   ]
  },
  {
   "cell_type": "code",
   "execution_count": null,
   "id": "2cd42f8e-a4f4-4711-a845-682a63f8374d",
   "metadata": {},
   "outputs": [],
   "source": []
  }
 ],
 "metadata": {
  "kernelspec": {
   "display_name": "Python 3 (ipykernel)",
   "language": "python",
   "name": "python3"
  },
  "language_info": {
   "codemirror_mode": {
    "name": "ipython",
    "version": 3
   },
   "file_extension": ".py",
   "mimetype": "text/x-python",
   "name": "python",
   "nbconvert_exporter": "python",
   "pygments_lexer": "ipython3",
   "version": "3.10.13"
  }
 },
 "nbformat": 4,
 "nbformat_minor": 5
}
